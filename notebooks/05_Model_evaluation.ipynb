{
 "cells": [
  {
   "cell_type": "code",
   "execution_count": 1,
   "metadata": {},
   "outputs": [],
   "source": [
    "import os"
   ]
  },
  {
   "cell_type": "code",
   "execution_count": 2,
   "metadata": {},
   "outputs": [
    {
     "data": {
      "text/plain": [
       "'d:\\\\github\\\\Github\\\\Text-Summarization\\\\notebooks'"
      ]
     },
     "execution_count": 2,
     "metadata": {},
     "output_type": "execute_result"
    }
   ],
   "source": [
    "%pwd"
   ]
  },
  {
   "cell_type": "code",
   "execution_count": 3,
   "metadata": {},
   "outputs": [],
   "source": [
    "os.chdir(\"../\")"
   ]
  },
  {
   "cell_type": "code",
   "execution_count": 4,
   "metadata": {},
   "outputs": [
    {
     "data": {
      "text/plain": [
       "'d:\\\\github\\\\Github\\\\Text-Summarization'"
      ]
     },
     "execution_count": 4,
     "metadata": {},
     "output_type": "execute_result"
    }
   ],
   "source": [
    "%pwd"
   ]
  },
  {
   "cell_type": "code",
   "execution_count": 15,
   "metadata": {},
   "outputs": [],
   "source": [
    "from dataclasses import dataclass\n",
    "from pathlib import Path\n",
    "\n",
    "\n",
    "@dataclass(frozen=True)\n",
    "class ModelEvaluationConfig:\n",
    "    root_dir: Path\n",
    "    data_path: Path\n",
    "    tokenized_data_path: Path\n",
    "    model_path: Path\n",
    "    tokenizer_path: Path\n",
    "    metric_file_name: Path"
   ]
  },
  {
   "cell_type": "code",
   "execution_count": 6,
   "metadata": {},
   "outputs": [],
   "source": [
    "from textSummarizer.constants import *\n",
    "from textSummarizer.utils.common import read_yaml, create_directories"
   ]
  },
  {
   "cell_type": "code",
   "execution_count": 16,
   "metadata": {},
   "outputs": [],
   "source": [
    "class ConfigurationManager:\n",
    "    def __init__(\n",
    "        self,\n",
    "        config_filepath = CONFIG_FILE_PATH,\n",
    "        params_filepath = PARAMS_FILE_PATH):\n",
    "\n",
    "        self.config = read_yaml(config_filepath)\n",
    "        self.params = read_yaml(params_filepath)\n",
    "\n",
    "        create_directories([self.config.artifacts_root])\n",
    "\n",
    "    def get_model_evaluation_config(self) -> ModelEvaluationConfig:\n",
    "        config = self.config.model_evaluation\n",
    "\n",
    "        create_directories([config.root_dir])\n",
    "\n",
    "        model_evaluation_config = ModelEvaluationConfig(\n",
    "            root_dir=config.root_dir,\n",
    "            data_path=config.data_path,\n",
    "            tokenized_data_path=config.tokenized_data_path,\n",
    "            model_path = config.model_path,\n",
    "            tokenizer_path = config.tokenizer_path,\n",
    "            metric_file_name = config.metric_file_name\n",
    "        )\n",
    "\n",
    "        return model_evaluation_config"
   ]
  },
  {
   "cell_type": "code",
   "execution_count": 8,
   "metadata": {},
   "outputs": [
    {
     "name": "stderr",
     "output_type": "stream",
     "text": [
      "d:\\github\\Github\\Text-Summarization\\venv\\Lib\\site-packages\\tqdm\\auto.py:21: TqdmWarning: IProgress not found. Please update jupyter and ipywidgets. See https://ipywidgets.readthedocs.io/en/stable/user_install.html\n",
      "  from .autonotebook import tqdm as notebook_tqdm\n"
     ]
    },
    {
     "name": "stdout",
     "output_type": "stream",
     "text": [
      "[2024-09-28 11:02:05,409: INFO: config: PyTorch version 2.4.1 available.]\n",
      "[2024-09-28 11:02:05,419: INFO: config: TensorFlow version 2.17.0 available.]\n"
     ]
    }
   ],
   "source": [
    "from transformers import AutoModelForSeq2SeqLM, AutoTokenizer\n",
    "from datasets import load_dataset, load_from_disk\n",
    "from evaluate import load\n",
    "\n",
    "import torch\n",
    "import pandas as pd\n",
    "from tqdm import tqdm"
   ]
  },
  {
   "cell_type": "code",
   "execution_count": 9,
   "metadata": {},
   "outputs": [],
   "source": [
    "# class ModelEvaluation:\n",
    "#     def __init__(self, config: ModelEvaluationConfig):\n",
    "#         self.config = config\n",
    "\n",
    "\n",
    "#     def generate_batch_sized_chunks(self,list_of_elements, batch_size):\n",
    "#         \"\"\"split the dataset into smaller batches that we can process simultaneously\n",
    "#         Yield successive batch-sized chunks from list_of_elements.\"\"\"\n",
    "#         for i in range(0, len(list_of_elements), batch_size):\n",
    "#             yield list_of_elements[i : i + batch_size]\n",
    "\n",
    "    \n",
    "#     def calculate_metric_on_test_ds(self,dataset, metric, model, tokenizer, \n",
    "#                                batch_size=16, device=\"cuda\" if torch.cuda.is_available() else \"cpu\", \n",
    "#                                column_text=\"article\", \n",
    "#                                column_summary=\"highlights\"):\n",
    "#         article_batches = list(self.generate_batch_sized_chunks(dataset[column_text], batch_size))\n",
    "#         target_batches = list(self.generate_batch_sized_chunks(dataset[column_summary], batch_size))\n",
    "\n",
    "#         for article_batch, target_batch in tqdm(\n",
    "#             zip(article_batches, target_batches), total=len(article_batches)):\n",
    "            \n",
    "#             inputs = tokenizer(article_batch, max_length=1024,  truncation=True, \n",
    "#                             padding=\"max_length\", return_tensors=\"pt\")\n",
    "            \n",
    "#             summaries = model.generate(input_ids=inputs[\"input_ids\"].to(device),\n",
    "#                             attention_mask=inputs[\"attention_mask\"].to(device), \n",
    "#                             length_penalty=0.8, num_beams=8, max_length=128)\n",
    "#             ''' parameter for length penalty ensures that the model does not generate sequences that are too long. '''\n",
    "            \n",
    "#             # Finally, we decode the generated texts, \n",
    "#             # replace the  token, and add the decoded texts with the references to the metric.\n",
    "#             decoded_summaries = [tokenizer.decode(s, skip_special_tokens=True, \n",
    "#                                     clean_up_tokenization_spaces=True) \n",
    "#                 for s in summaries]      \n",
    "            \n",
    "#             decoded_summaries = [d.replace(\"\", \" \") for d in decoded_summaries]\n",
    "            \n",
    "            \n",
    "#             metric.add_batch(predictions=decoded_summaries, references=target_batch)\n",
    "            \n",
    "#         #  Finally compute and return the ROUGE scores.\n",
    "#         score = metric.compute()\n",
    "#         return score\n",
    "\n",
    "\n",
    "#     def evaluate(self):\n",
    "#         device = \"cuda\" if torch.cuda.is_available() else \"cpu\"\n",
    "#         tokenizer = AutoTokenizer.from_pretrained(self.config.tokenizer_path)\n",
    "#         model_pegasus = AutoModelForSeq2SeqLM.from_pretrained(self.config.model_path).to(device)\n",
    "       \n",
    "#         #loading data \n",
    "#         dataset_samsum_pt = load_from_disk(self.config.data_path)\n",
    "#         print(\"columns name: \",dataset_samsum_pt['test'].column_names)\n",
    "#         print(\"input_ids: \",dataset_samsum_pt['test'][\"input_ids\"])\n",
    "#         print(\"attention_mask: \",dataset_samsum_pt['test'][\"attention_mask\"])\n",
    "#         print(\"labels: \",dataset_samsum_pt['test'][\"labels\"])\n",
    "#         rouge_names = [\"rouge1\", \"rouge2\", \"rougeL\", \"rougeLsum\"]\n",
    "  \n",
    "#         rouge_metric = load('rouge')\n",
    "\n",
    "#         score = self.calculate_metric_on_test_ds(\n",
    "#                 dataset_samsum_pt['test'][0:10], \n",
    "#                 rouge_metric, model_pegasus, \n",
    "#                 tokenizer, batch_size = 2, \n",
    "#                 # column_text = 'dialogue', \n",
    "#                 column_text = 'input_ids', \n",
    "#                 # column_summary= 'summary'\n",
    "#                 column_summary= 'labels'\n",
    "#             )\n",
    "\n",
    "#         rouge_dict = dict((rn, score[rn]) for rn in rouge_names)\n",
    "\n",
    "#         df = pd.DataFrame(rouge_dict, index = ['pegasus'])\n",
    "#         df.to_csv(self.config.metric_file_name, index=False)"
   ]
  },
  {
   "cell_type": "code",
   "execution_count": 19,
   "metadata": {},
   "outputs": [],
   "source": [
    "class ModelEvaluation:\n",
    "    def __init__(self, config: ModelEvaluationConfig):\n",
    "        self.config = config\n",
    "\n",
    "    def generate_batch_sized_chunks(self,list_of_elements, batch_size):\n",
    "        \"\"\"split the dataset into smaller batches that we can process simultaneously\n",
    "        Yield successive batch-sized chunks from list_of_elements.\"\"\"\n",
    "        for i in range(0, len(list_of_elements), batch_size):\n",
    "            yield list_of_elements[i : i + batch_size]\n",
    "\n",
    "    def calculate_metric_on_test_ds(self,dataset, metric, model, tokenizer, \n",
    "                               batch_size=16, device=\"cuda\" if torch.cuda.is_available() else \"cpu\", \n",
    "                               column_text=\"article\", \n",
    "                               column_summary=\"highlights\"):\n",
    "        article_batches = list(self.generate_batch_sized_chunks(dataset[column_text], batch_size))\n",
    "        target_batches = list(self.generate_batch_sized_chunks(dataset[column_summary], batch_size))\n",
    "\n",
    "        for article_batch, target_batch in tqdm(\n",
    "            zip(article_batches, target_batches), total=len(article_batches)):\n",
    "            \n",
    "            inputs = tokenizer(article_batch, max_length=1024,  truncation=True, \n",
    "                            padding=\"max_length\", return_tensors=\"pt\")\n",
    "            \n",
    "            summaries = model.generate(input_ids=inputs[\"input_ids\"].to(device),\n",
    "                            attention_mask=inputs[\"attention_mask\"].to(device), \n",
    "                            length_penalty=0.8, num_beams=8, max_length=128)\n",
    "            ''' parameter for length penalty ensures that the model does not generate sequences that are too long. '''\n",
    "            \n",
    "            # Finally, we decode the generated texts, \n",
    "            # replace the  token, and add the decoded texts with the references to the metric.\n",
    "            decoded_summaries = [tokenizer.decode(s, skip_special_tokens=True, \n",
    "                                    clean_up_tokenization_spaces=True) \n",
    "                for s in summaries]      \n",
    "            \n",
    "            decoded_summaries = [d.replace(\"\", \" \") for d in decoded_summaries]\n",
    "            \n",
    "            \n",
    "            metric.add_batch(predictions=decoded_summaries, references=target_batch)\n",
    "            \n",
    "        #  Finally compute and return the ROUGE scores.\n",
    "        score = metric.compute()\n",
    "        return score\n",
    "\n",
    "    def evaluate(self):\n",
    "        device = \"cuda\" if torch.cuda.is_available() else \"cpu\"\n",
    "        tokenizer = AutoTokenizer.from_pretrained(self.config.tokenizer_path)\n",
    "        model_pegasus = AutoModelForSeq2SeqLM.from_pretrained(self.config.model_path).to(device)\n",
    "       \n",
    "        # Try to load the dataset\n",
    "        try:\n",
    "            # First, try to load as a directory\n",
    "            if os.path.isdir(self.config.data_path):\n",
    "                dataset_samsum = load_from_disk(self.config.data_path)\n",
    "                print(f\"Loaded dataset from disk: {self.config.data_path}\")\n",
    "            else:\n",
    "                # If not a directory, try to load as a JSON file\n",
    "                dataset_samsum = load_dataset(\"json\", data_files=self.config.data_path)\n",
    "                print(f\"Loaded dataset from JSON: {self.config.data_path}\")\n",
    "        except Exception as e:\n",
    "            print(f\"Error loading dataset: {e}\")\n",
    "            print(\"Please check if the dataset path is correct and the dataset exists.\")\n",
    "            return\n",
    "\n",
    "        # Print dataset info for debugging\n",
    "        print(\"Dataset structure:\", dataset_samsum)\n",
    "        print(\"Dataset columns:\", dataset_samsum['test'].column_names)\n",
    "\n",
    "        rouge_names = [\"rouge1\", \"rouge2\", \"rougeL\", \"rougeLsum\"]\n",
    "        rouge_metric = load('rouge')\n",
    "\n",
    "        # Determine the correct column names\n",
    "        text_column = 'dialogue' if 'dialogue' in dataset_samsum['test'].column_names else 'input_ids'\n",
    "        summary_column = 'summary' if 'summary' in dataset_samsum['test'].column_names else 'labels'\n",
    "\n",
    "        score = self.calculate_metric_on_test_ds(\n",
    "                dataset_samsum['test'][0:10], \n",
    "                rouge_metric, model_pegasus, \n",
    "                tokenizer, batch_size = 2, \n",
    "                column_text = text_column, \n",
    "                column_summary = summary_column\n",
    "            )\n",
    "\n",
    "        rouge_dict = dict((rn, score[rn]) for rn in rouge_names)\n",
    "\n",
    "        df = pd.DataFrame(rouge_dict, index = ['pegasus'])\n",
    "        df.to_csv(self.config.metric_file_name, index=False)\n",
    "\n",
    "    # The calculate_metric_on_test_ds method remains the same as in your original code"
   ]
  },
  {
   "cell_type": "code",
   "execution_count": 20,
   "metadata": {},
   "outputs": [
    {
     "name": "stdout",
     "output_type": "stream",
     "text": [
      "[2024-09-28 11:15:40,759: INFO: common: yaml file: config\\config.yaml loaded succesfully.]\n",
      "[2024-09-28 11:15:40,764: INFO: common: yaml file: params.yaml loaded succesfully.]\n",
      "[2024-09-28 11:15:40,767: INFO: common: Created directory at: artifacts]\n",
      "[2024-09-28 11:15:40,769: INFO: common: Created directory at: artifacts/model_evaluation]\n",
      "Loaded dataset from disk: artifacts/data_ingestion/samsum_dataset\n",
      "Dataset structure: DatasetDict({\n",
      "    train: Dataset({\n",
      "        features: ['id', 'dialogue', 'summary'],\n",
      "        num_rows: 14732\n",
      "    })\n",
      "    test: Dataset({\n",
      "        features: ['id', 'dialogue', 'summary'],\n",
      "        num_rows: 819\n",
      "    })\n",
      "    validation: Dataset({\n",
      "        features: ['id', 'dialogue', 'summary'],\n",
      "        num_rows: 818\n",
      "    })\n",
      "})\n",
      "Dataset columns: ['id', 'dialogue', 'summary']\n"
     ]
    },
    {
     "name": "stderr",
     "output_type": "stream",
     "text": [
      "100%|██████████| 5/5 [05:26<00:00, 65.27s/it]\n"
     ]
    },
    {
     "name": "stdout",
     "output_type": "stream",
     "text": [
      "[2024-09-28 11:21:18,512: INFO: rouge_scorer: Using default tokenizer.]\n"
     ]
    }
   ],
   "source": [
    "try:\n",
    "    config = ConfigurationManager()\n",
    "    model_evaluation_config = config.get_model_evaluation_config()\n",
    "    model_evaluation_config = ModelEvaluation(config=model_evaluation_config)\n",
    "    model_evaluation_config.evaluate()\n",
    "except Exception as e:\n",
    "    raise e"
   ]
  },
  {
   "cell_type": "code",
   "execution_count": null,
   "metadata": {},
   "outputs": [],
   "source": []
  },
  {
   "cell_type": "code",
   "execution_count": null,
   "metadata": {},
   "outputs": [],
   "source": []
  },
  {
   "cell_type": "code",
   "execution_count": null,
   "metadata": {},
   "outputs": [],
   "source": []
  },
  {
   "cell_type": "code",
   "execution_count": null,
   "metadata": {},
   "outputs": [],
   "source": []
  }
 ],
 "metadata": {
  "kernelspec": {
   "display_name": "venv",
   "language": "python",
   "name": "python3"
  },
  "language_info": {
   "codemirror_mode": {
    "name": "ipython",
    "version": 3
   },
   "file_extension": ".py",
   "mimetype": "text/x-python",
   "name": "python",
   "nbconvert_exporter": "python",
   "pygments_lexer": "ipython3",
   "version": "3.11.7"
  }
 },
 "nbformat": 4,
 "nbformat_minor": 2
}
